{
 "cells": [
  {
   "cell_type": "code",
   "execution_count": null,
   "id": "c05fa99f",
   "metadata": {},
   "outputs": [],
   "source": [
    "import langchain    \n",
    "from langchain_google_genai import ChatGoogleGenerativeAI\n",
    "import os\n",
    "from langchain_core.messages import HumanMessage, AIMessage\n",
    "from langchain_core.prompts import ChatPromptTemplate\n",
    "from langchain_core.output_parsers import StrOutputParser\n",
    "import re\n",
    "\n"
   ]
  },
  {
   "cell_type": "code",
   "execution_count": null,
   "id": "d7f182f7",
   "metadata": {},
   "outputs": [],
   "source": [
    "os.environ[\"GOOGLE_API_KEY\"] = \"UR API KEY HERE\"\n",
    "llm = ChatGoogleGenerativeAI(model=\"gemini-2.5-flash\", temperature=0.7)\n",
    "\n",
    "# --- Dynamically build the prompt ---\n",
    "prompt_parts = \"Hi how are you? \" \\\n",
    "               \"Can you tell me a joke about computers? \" \\\n",
    "                \"Make it short and funny.\"\n",
    "\n",
    "message = HumanMessage(content=prompt_parts)\n",
    "response = llm.invoke([message])"
   ]
  },
  {
   "cell_type": "code",
   "execution_count": 26,
   "id": "eb1bdac0",
   "metadata": {},
   "outputs": [],
   "source": [
    "prompt = ChatPromptTemplate.from_messages([\n",
    "    (\"system\", \"You are a creative writing assistant.\"),\n",
    "    (\"user\", \"\"\"Please paraphrase this text in the style of {style}:\n",
    "\n",
    "{text}\"\"\")\n",
    "])\n",
    "\n",
    "def clean_text(text):\n",
    "    text = text.lower()\n",
    "    text = re.sub(r\"\\s+\", \" \", text).strip()\n",
    "    return text\n",
    "\n",
    "style_chain = (\n",
    "    {\n",
    "        \"text\": lambda x: clean_text(x[\"text\"]),  # Extract and clean the text from input dict\n",
    "        \"style\": lambda x: x[\"style\"]  # Extract style from input dict\n",
    "    }\n",
    "    | prompt  # Format with our template\n",
    "    | llm  # Generate creative paraphrase\n",
    "    | StrOutputParser()  # Convert to string\n",
    ")\n",
    "response = style_chain.invoke(\n",
    "    {\"text\": \"The quick brown fox jumps over the lazy dog.\", \"style\": \"Shakespearean\"}\n",
    ")   "
   ]
  },
  {
   "cell_type": "code",
   "execution_count": 27,
   "id": "a36537ee",
   "metadata": {},
   "outputs": [
    {
     "data": {
      "text/plain": [
       "\"Hark! The nimble fox, with pelt of ruddy brown,\\nDoth lightly leap o'er yonder sluggish hound.\""
      ]
     },
     "execution_count": 27,
     "metadata": {},
     "output_type": "execute_result"
    }
   ],
   "source": [
    "response"
   ]
  },
  {
   "cell_type": "code",
   "execution_count": 14,
   "id": "f66479c0",
   "metadata": {},
   "outputs": [
    {
     "name": "stdout",
     "output_type": "stream",
     "text": [
      "The result is: 2.4116004626599237\n"
     ]
    }
   ],
   "source": [
    "import numexpr\n",
    "from langchain_core.prompts import ChatPromptTemplate\n",
    "from langchain_core.output_parsers import StrOutputParser\n",
    "from langchain_core.runnables import RunnableLambda\n",
    "\n",
    "# Create a function to handle calculations\n",
    "def calculate(expression: str) -> str:\n",
    "    try:\n",
    "        result = float(numexpr.evaluate(expression))\n",
    "        return f\"The result is: {result}\"\n",
    "    except Exception as e:\n",
    "        return f\"Error in calculation: {str(e)}\"\n",
    "\n",
    "# Create the prompt\n",
    "prompt = ChatPromptTemplate.from_messages([\n",
    "    (\"system\", \"You are a helpful math assistant. When given a math problem, respond ONLY with the mathematical expression that would solve it. For example, if asked 'What is 2 raised to the 3rd power?', respond only with '2**3'.\"),\n",
    "    (\"user\", \"{question}\")\n",
    "])\n",
    "\n",
    "# Wrap our calculation function with RunnableLambda for explicit LCEL pattern\n",
    "calculate_runnable = RunnableLambda(calculate)\n",
    "\n",
    "# Create the chain using LCEL with explicit RunnableLambda\n",
    "math_chain = (\n",
    "    prompt\n",
    "    | llm  # Language model to interpret the prompt\n",
    "    | StrOutputParser()  # Convert to string\n",
    "    | calculate_runnable  # Our calculation function wrapped in RunnableLambda\n",
    ")\n",
    "\n",
    "# Use the chain with our example\n",
    "response = math_chain.invoke({\n",
    "    \"question\": \"What is 13 raised to the .3432 power?\"\n",
    "})\n",
    "print(response)"
   ]
  },
  {
   "cell_type": "code",
   "execution_count": null,
   "id": "6316e079",
   "metadata": {},
   "outputs": [],
   "source": [
    "import math\n",
    "from typing import Annotated, Sequence\n",
    "import numexpr\n",
    "from langchain_core.messages import BaseMessage\n",
    "from langchain_core.runnables import RunnableConfig\n",
    "from langchain_core.tools import tool\n",
    "from langgraph.graph import END, StateGraph\n",
    "from langgraph.graph.message import add_messages\n",
    "from langgraph.prebuilt.tool_node import ToolNode\n",
    "from typing_extensions import TypedDict\n",
    "from langchain_community.tools import DuckDuckGoSearchRun\n",
    "from langchain_google_genai import ChatGoogleGenerativeAI\n",
    "\n",
    "# ---------------------- Calculator Tool ----------------------\n",
    "@tool\n",
    "def calculator(expression: str) -> str:\n",
    "    \"\"\"Calculate expression using Python's numexpr library.\n",
    "\n",
    "    Expression should be a single line mathematical expression\n",
    "    that solves the problem.\n",
    "\n",
    "    Examples:\n",
    "        \"37593 * 67\" for \"37593 times 67\"\n",
    "        \"37593**(1/5)\" for \"37593^(1/5)\"\n",
    "    \"\"\"\n",
    "    local_dict = {\"pi\": math.pi, \"e\": math.e}\n",
    "    return str(\n",
    "        numexpr.evaluate(\n",
    "            expression.strip(),\n",
    "            global_dict={},  # restrict access to globals\n",
    "            local_dict=local_dict,  # add common mathematical functions\n",
    "        )\n",
    "    )\n",
    "\n",
    "llm = ChatGoogleGenerativeAI(\n",
    "    model=\"gemini-2.5-flash\",\n",
    "    temperature=0.7\n",
    ")\n",
    "\n",
    "search_tool = DuckDuckGoSearchRun()\n",
    "\n",
    "tools = [calculator, search_tool]\n",
    "llm_with_tools = llm.bind_tools(tools, tool_choice=\"any\")\n",
    "\n",
    "class ChainState(TypedDict):\n",
    "    \"\"\"LangGraph state.\"\"\"\n",
    "    messages: Annotated[Sequence[BaseMessage], add_messages]\n",
    "\n",
    "async def acall_chain(state: ChainState, config: RunnableConfig):\n",
    "    response = await llm_with_tools.ainvoke(state[\"messages\"], config)\n",
    "    return {\"messages\": [response]}\n",
    "\n",
    "async def acall_model(state: ChainState, config: RunnableConfig):\n",
    "    response = await llm.ainvoke(state[\"messages\"], config)\n",
    "    return {\"messages\": [response]}\n",
    "\n",
    "graph_builder = StateGraph(ChainState)\n",
    "graph_builder.add_node(\"call_tool\", acall_chain)\n",
    "graph_builder.add_node(\"execute_tool\", ToolNode(tools))\n",
    "graph_builder.add_node(\"call_model\", acall_model)\n",
    "\n",
    "graph_builder.set_entry_point(\"call_tool\")\n",
    "graph_builder.add_edge(\"call_tool\", \"execute_tool\")\n",
    "graph_builder.add_edge(\"execute_tool\", \"call_model\")\n",
    "graph_builder.add_edge(\"call_model\", END)\n",
    "\n",
    "chain = graph_builder.compile()\n"
   ]
  },
  {
   "cell_type": "code",
   "execution_count": 43,
   "id": "c1e6e327",
   "metadata": {},
   "outputs": [
    {
     "data": {
      "image/png": "[encoded data removed]",
      "text/plain": [
       "<IPython.core.display.Image object>"
      ]
     },
     "execution_count": 43,
     "metadata": {},
     "output_type": "execute_result"
    }
   ],
   "source": [
    "# Visualize chain:\n",
    "\n",
    "from IPython.display import Image\n",
    "\n",
    "Image(chain.get_graph().draw_mermaid_png())"
   ]
  },
  {
   "cell_type": "code",
   "execution_count": 50,
   "id": "028e47bd",
   "metadata": {},
   "outputs": [
    {
     "name": "stdout",
     "output_type": "stream",
     "text": [
      "================================\u001b[1m Human Message \u001b[0m=================================\n",
      "\n",
      "How to start a business?\n",
      "==================================\u001b[1m Ai Message \u001b[0m==================================\n",
      "Tool Calls:\n",
      "  duckduckgo_search (867128a9-b5db-419a-8090-965ad0c364f2)\n",
      " Call ID: 867128a9-b5db-419a-8090-965ad0c364f2\n",
      "  Args:\n",
      "    query: how to start a business\n",
      "=================================\u001b[1m Tool Message \u001b[0m=================================\n",
      "Name: duckduckgo_search\n",
      "\n",
      "September 17, 2025 - This guide was reviewed by a Business ... Editorial Guidelines. Starting a business can be hard work, but breaking down the process of launching your new venture into individual steps can make it easier .... Best Businesses to Start in Washington, ... its goals and what’s required to meet those goals. You’ll need a detailed business plan if you will be applying for a business loan or looking for a loan .... Learn how to start a business and set up a company successfully. Explore the best way to launch a small online business , LLC, firm or partnership and grow it effectively. August 22, 2025 - A good business to start is usually one that fills an unmet consumer need . Think of any everyday problem that’s yet to be solved or ways to improve an existing solution by making it faster, cheaper or easier to use. This may influence which products ... reviews of their products or services. Here is a list of our partners. Starting a business requires planning, patience and a lot of paperwork ....\n",
      "==================================\u001b[1m Ai Message \u001b[0m==================================\n",
      "\n",
      "Starting a business is an exciting journey that involves several key steps. Here's a general outline to help you get started:\n",
      "\n",
      "1.  **Develop a Business Idea:**\n",
      "    *   **Identify a need:** What problem can you solve? What unmet need can you fill?\n",
      "    *   **Consider your passions and skills:** What are you good at? What do you enjoy doing?\n",
      "    *   **Research the market:** Is there demand for your idea? Who are your potential customers? Who are your competitors?\n",
      "\n",
      "2.  **Create a Business Plan:** This is a crucial document that outlines your business goals and how you plan to achieve them. It typically includes:\n",
      "    *   **Executive Summary:** A high-level overview of your business.\n",
      "    *   **Company Description:** What your business does and its mission.\n",
      "    *   **Market Analysis:** Your target market, competition, and market trends.\n",
      "    *   **Organization and Management:** Your business structure and team.\n",
      "    *   **Service or Product Line:** Details about what you're offering.\n",
      "    *   **Marketing and Sales Strategy:** How you'll reach customers.\n",
      "    *   **Funding Request (if applicable):** How much money you need and how you'll use it.\n",
      "    *   **Financial Projections:** Forecasts of your income, expenses, and cash flow.\n",
      "    *   A detailed business plan is essential if you're seeking external funding (e.g., loans, investors).\n",
      "\n",
      "3.  **Secure Funding:**\n",
      "    *   **Self-funding (bootstrapping):** Using your own savings.\n",
      "    *   **Small business loans:** From banks or other financial institutions.\n",
      "    *   **Investors:** Angel investors or venture capitalists.\n",
      "    *   **Grants:** Government or private grants for specific types of businesses.\n",
      "    *   **Crowdfunding:** Raising small amounts of money from a large number of people.\n",
      "\n",
      "4.  **Choose a Business Structure:** This affects your legal liability, taxes, and administrative burden. Common structures include:\n",
      "    *   **Sole Proprietorship:** Simple to set up, but no personal liability protection.\n",
      "    *   **Partnership:** For two or more owners.\n",
      "    *   **Limited Liability Company (LLC):** Offers personal liability protection.\n",
      "    *   **Corporation (C-Corp or S-Corp):** More complex, often for larger businesses.\n",
      "\n",
      "5.  **Register Your Business and Obtain Licenses/Permits:**\n",
      "    *   **Register your business name:** Often with your state or local government.\n",
      "    *   **Get a Federal Employer Identification Number (EIN):** If you plan to hire employees or operate as a corporation/partnership.\n",
      "    *   **Obtain necessary licenses and permits:** These vary widely depending on your industry and location.\n",
      "\n",
      "6.  **Set Up Your Business Operations:**\n",
      "    *   **Choose a location:** Physical storefront, home office, online-only.\n",
      "    *   **Build your team:** Hire employees if needed.\n",
      "    *   **Develop your product or service:** Refine it based on market feedback.\n",
      "    *   **Set up your financial systems:** Bank accounts, accounting software.\n",
      "\n",
      "7.  **Market and Launch Your Business:**\n",
      "    *   **Develop a strong brand:** Logo, website, messaging.\n",
      "    *   **Implement your marketing strategy:** Online advertising, social media, networking, PR.\n",
      "    *   **Launch your product or service.**\n",
      "\n",
      "8.  **Continuously Monitor and Adapt:**\n",
      "    *   **Gather customer feedback:** Use it to improve your offerings.\n",
      "    *   **Track your financial performance.**\n",
      "    *   **Stay updated on market trends and competition.**\n",
      "\n",
      "Starting a business requires planning, patience, and a lot of hard work, but by breaking it down into these steps, it becomes a more manageable process.\n"
     ]
    }
   ],
   "source": [
    "# Stream chain steps:\n",
    "\n",
    "system_prompt = \"\"\"\n",
    "You are a helpful assistant with access to a calculator tool and a search tool.\n",
    "Only use the calculator tool when the user is asking a MATH question.\n",
    "\"\"\"\n",
    "\n",
    "example_query = \"How to start a business?\"\n",
    "\n",
    "events = chain.astream(\n",
    "    {\"messages\": [(\"system\", system_prompt), (\"user\", example_query)]},\n",
    "    stream_mode=\"values\",\n",
    ")\n",
    "async for event in events:\n",
    "    event[\"messages\"][-1].pretty_print()\n",
    "\n"
   ]
  },
  {
   "cell_type": "code",
   "execution_count": 51,
   "id": "aa79e2a6",
   "metadata": {},
   "outputs": [
    {
     "name": "stdout",
     "output_type": "stream",
     "text": [
      "Sentiment: The sentiment is **strongly positive**.\n",
      "\n",
      "Both phrases clearly indicate a highly favorable experience:\n",
      "*   \"exceeded my expectations\" implies the product performed better than anticipated, leading to satisfaction or delight.\n",
      "*   \"Great quality!\" is an explicit and enthusiastic positive endorsement.\n",
      "Summary: The product's great quality exceeded expectations.\n",
      "Original: The product exceeded my expectations. Great quality!\n"
     ]
    }
   ],
   "source": [
    "from langchain_core.runnables import RunnableParallel, RunnablePassthrough\n",
    "\n",
    "sentiment_prompt = ChatPromptTemplate.from_messages([\n",
    "    (\"system\", \"You are a sentiment analysis expert. Analyze the emotional tone.\"),\n",
    "    (\"user\", \"What's the sentiment of: {text}\")\n",
    "])\n",
    "\n",
    "summary_prompt = ChatPromptTemplate.from_messages([\n",
    "    (\"system\", \"You are a summarization expert.\"),\n",
    "    (\"user\", \"Summarize in one sentence: {text}\")\n",
    "])\n",
    "\n",
    "analysis_chain = RunnableParallel(\n",
    "    {\n",
    "        \"sentiment\": sentiment_prompt | llm | StrOutputParser(),\n",
    "        \"summary\": summary_prompt | llm | StrOutputParser(),\n",
    "        \"original\": RunnablePassthrough()  # Pass through the original input\n",
    "    }\n",
    ")\n",
    "\n",
    "sample_text = {\"text\": \"The product exceeded my expectations. Great quality!\"}\n",
    "results = analysis_chain.invoke(sample_text)\n",
    "\n",
    "print(\"Sentiment:\", results[\"sentiment\"])\n",
    "print(\"Summary:\", results[\"summary\"])\n",
    "print(\"Original:\", results[\"original\"][\"text\"])"
   ]
  },
  {
   "cell_type": "code",
   "execution_count": null,
   "id": "b732d058",
   "metadata": {},
   "outputs": [
    {
     "name": "stdout",
     "output_type": "stream",
     "text": [
      "Q: What is the capital of France?\n",
      "A: Paris\n",
      "\n",
      "Q: Who wrote Romeo and Juliet?\n",
      "A: William Shakespeare.\n",
      "\n",
      "Q: What is the speed of light?\n",
      "A: Approximately 299,792,458 meters per second in a vacuum.\n",
      "\n"
     ]
    }
   ],
   "source": [
    "qa_prompt = ChatPromptTemplate.from_messages([\n",
    "    (\"system\", \"You are a helpful assistant. Answer correctly.\"),\n",
    "    (\"user\", \"{question}\")\n",
    "])\n",
    "\n",
    "qa_chain = qa_prompt | llm | StrOutputParser()\n",
    "\n",
    "questions = [\n",
    "    {\"question\": \"What is the capital of France?\"},\n",
    "    {\"question\": \"Who wrote Romeo and Juliet?\"},\n",
    "    {\"question\": \"What is the speed of light?\"}\n",
    "]\n",
    "answers = qa_chain.batch(questions)\n",
    "for q, a in zip(questions, answers):\n",
    "    print(f\"Q: {q['question']}\")\n",
    "    print(f\"A: {a}\\n\")"
   ]
  },
  {
   "cell_type": "code",
   "execution_count": null,
   "id": "bc537157",
   "metadata": {},
   "outputs": [
    {
     "data": {
      "text/plain": [
       "'Your name is Nemo!'"
      ]
     },
     "execution_count": 59,
     "metadata": {},
     "output_type": "execute_result"
    }
   ],
   "source": [
    "# using memory\n",
    "demo_ephemeral_chat_history = [\n",
    "    HumanMessage(content=\"Hey there! I'm Nemo.\"),\n",
    "    AIMessage(content=\"Hello!\"),\n",
    "    HumanMessage(content=\"How are you today?\"),\n",
    "    AIMessage(content=\"Fine thanks!\"),\n",
    "]\n",
    "prompt = ChatPromptTemplate.from_messages([\n",
    "    (\"system\", \"You are a friendly assistant.\"),\n",
    "    (\"user\", \"{messages}\")\n",
    "])\n",
    "\n",
    "chain = prompt | llm | StrOutputParser()\n",
    "\n",
    "chain.invoke(\n",
    "    {\"messages\": demo_ephemeral_chat_history + [HumanMessage(content=\"What's my name?\")]}\n",
    ")\n"
   ]
  },
  {
   "cell_type": "code",
   "execution_count": null,
   "id": "b2e3e2a2",
   "metadata": {},
   "outputs": [],
   "source": []
  }
 ],
 "metadata": {
  "kernelspec": {
   "display_name": "venv",
   "language": "python",
   "name": "python3"
  },
  "language_info": {
   "codemirror_mode": {
    "name": "ipython",
    "version": 3
   },
   "file_extension": ".py",
   "mimetype": "text/x-python",
   "name": "python",
   "nbconvert_exporter": "python",
   "pygments_lexer": "ipython3",
   "version": "3.10.0"
  }
 },
 "nbformat": 4,
 "nbformat_minor": 5
}
