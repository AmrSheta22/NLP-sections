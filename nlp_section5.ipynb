{
 "cells": [
  {
   "cell_type": "code",
   "execution_count": 1,
   "id": "868906b3",
   "metadata": {},
   "outputs": [
    {
     "data": {
      "text/html": [
       "<div>\n",
       "<style scoped>\n",
       "    .dataframe tbody tr th:only-of-type {\n",
       "        vertical-align: middle;\n",
       "    }\n",
       "\n",
       "    .dataframe tbody tr th {\n",
       "        vertical-align: top;\n",
       "    }\n",
       "\n",
       "    .dataframe thead th {\n",
       "        text-align: right;\n",
       "    }\n",
       "</style>\n",
       "<table border=\"1\" class=\"dataframe\">\n",
       "  <thead>\n",
       "    <tr style=\"text-align: right;\">\n",
       "      <th></th>\n",
       "      <th>text</th>\n",
       "      <th>label</th>\n",
       "    </tr>\n",
       "  </thead>\n",
       "  <tbody>\n",
       "    <tr>\n",
       "      <th>0</th>\n",
       "      <td>I love this movie, it is fantastic</td>\n",
       "      <td>positive</td>\n",
       "    </tr>\n",
       "    <tr>\n",
       "      <th>1</th>\n",
       "      <td>This film is amazing and wonderful</td>\n",
       "      <td>positive</td>\n",
       "    </tr>\n",
       "    <tr>\n",
       "      <th>2</th>\n",
       "      <td>What a great and beautiful story</td>\n",
       "      <td>positive</td>\n",
       "    </tr>\n",
       "    <tr>\n",
       "      <th>3</th>\n",
       "      <td>I hate this movie, it is terrible</td>\n",
       "      <td>negative</td>\n",
       "    </tr>\n",
       "    <tr>\n",
       "      <th>4</th>\n",
       "      <td>This film is awful and boring</td>\n",
       "      <td>negative</td>\n",
       "    </tr>\n",
       "    <tr>\n",
       "      <th>5</th>\n",
       "      <td>What a horrible and bad experience</td>\n",
       "      <td>negative</td>\n",
       "    </tr>\n",
       "  </tbody>\n",
       "</table>\n",
       "</div>"
      ],
      "text/plain": [
       "                                 text     label\n",
       "0  I love this movie, it is fantastic  positive\n",
       "1  This film is amazing and wonderful  positive\n",
       "2    What a great and beautiful story  positive\n",
       "3   I hate this movie, it is terrible  negative\n",
       "4       This film is awful and boring  negative\n",
       "5  What a horrible and bad experience  negative"
      ]
     },
     "execution_count": 1,
     "metadata": {},
     "output_type": "execute_result"
    }
   ],
   "source": [
    "import numpy as np\n",
    "import pandas as pd\n",
    "import matplotlib.pyplot as plt\n",
    "from collections import defaultdict, Counter\n",
    "\n",
    "# Sample dataset\n",
    "data = [\n",
    "    (\"I love this movie, it is fantastic\", \"positive\"),\n",
    "    (\"This film is amazing and wonderful\", \"positive\"),\n",
    "    (\"What a great and beautiful story\", \"positive\"),\n",
    "    (\"I hate this movie, it is terrible\", \"negative\"),\n",
    "    (\"This film is awful and boring\", \"negative\"),\n",
    "    (\"What a horrible and bad experience\", \"negative\"),\n",
    "]\n",
    "\n",
    "df = pd.DataFrame(data, columns=[\"text\", \"label\"])\n",
    "df\n"
   ]
  },
  {
   "cell_type": "code",
   "execution_count": 2,
   "id": "3829d45d",
   "metadata": {},
   "outputs": [
    {
     "name": "stdout",
     "output_type": "stream",
     "text": [
      "Vocabulary: ['a', 'amazing', 'and', 'awful', 'bad', 'beautiful', 'boring', 'experience', 'fantastic', 'film', 'great', 'hate', 'horrible', 'i', 'is', 'it', 'love', 'movie,', 'story', 'terrible', 'this', 'what', 'wonderful']\n",
      "Vocab size: 23\n"
     ]
    }
   ],
   "source": [
    "def tokenize(text):\n",
    "    return text.lower().split()\n",
    "\n",
    "# Build vocabulary\n",
    "vocab = set()\n",
    "for text in df[\"text\"]:\n",
    "    vocab.update(tokenize(text))\n",
    "vocab = sorted(vocab)\n",
    "vocab_size = len(vocab)\n",
    "print(\"Vocabulary:\", vocab)\n",
    "print(\"Vocab size:\", vocab_size)"
   ]
  },
  {
   "cell_type": "code",
   "execution_count": 9,
   "id": "58c2b85b",
   "metadata": {},
   "outputs": [
    {
     "data": {
      "text/plain": [
       "defaultdict(list,\n",
       "            {'positive': [['i',\n",
       "               'love',\n",
       "               'this',\n",
       "               'movie,',\n",
       "               'it',\n",
       "               'is',\n",
       "               'fantastic'],\n",
       "              ['this', 'film', 'is', 'amazing', 'and', 'wonderful'],\n",
       "              ['what', 'a', 'great', 'and', 'beautiful', 'story']],\n",
       "             'negative': [['i',\n",
       "               'hate',\n",
       "               'this',\n",
       "               'movie,',\n",
       "               'it',\n",
       "               'is',\n",
       "               'terrible'],\n",
       "              ['this', 'film', 'is', 'awful', 'and', 'boring'],\n",
       "              ['what', 'a', 'horrible', 'and', 'bad', 'experience']]})"
      ]
     },
     "execution_count": 9,
     "metadata": {},
     "output_type": "execute_result"
    }
   ],
   "source": [
    "# Separate documents by class\n",
    "class_docs = defaultdict(list)\n",
    "for text, label in zip(df[\"text\"], df[\"label\"]):\n",
    "    class_docs[label].append(tokenize(text))\n",
    "\n",
    "class_docs"
   ]
  },
  {
   "cell_type": "code",
   "execution_count": 11,
   "id": "70ce950c",
   "metadata": {},
   "outputs": [],
   "source": [
    "# Compute priors\n",
    "priors = {c: len(class_docs[c]) / len(df) for c in class_docs}\n"
   ]
  },
  {
   "cell_type": "code",
   "execution_count": 12,
   "id": "239c2e17",
   "metadata": {},
   "outputs": [
    {
     "data": {
      "text/plain": [
       "{'positive': Counter({'this': 2,\n",
       "          'is': 2,\n",
       "          'and': 2,\n",
       "          'i': 1,\n",
       "          'love': 1,\n",
       "          'movie,': 1,\n",
       "          'it': 1,\n",
       "          'fantastic': 1,\n",
       "          'film': 1,\n",
       "          'amazing': 1,\n",
       "          'wonderful': 1,\n",
       "          'what': 1,\n",
       "          'a': 1,\n",
       "          'great': 1,\n",
       "          'beautiful': 1,\n",
       "          'story': 1}),\n",
       " 'negative': Counter({'this': 2,\n",
       "          'is': 2,\n",
       "          'and': 2,\n",
       "          'i': 1,\n",
       "          'hate': 1,\n",
       "          'movie,': 1,\n",
       "          'it': 1,\n",
       "          'terrible': 1,\n",
       "          'film': 1,\n",
       "          'awful': 1,\n",
       "          'boring': 1,\n",
       "          'what': 1,\n",
       "          'a': 1,\n",
       "          'horrible': 1,\n",
       "          'bad': 1,\n",
       "          'experience': 1})}"
      ]
     },
     "execution_count": 12,
     "metadata": {},
     "output_type": "execute_result"
    }
   ],
   "source": [
    "# Compute word counts per class\n",
    "word_counts = {c: Counter() for c in class_docs}\n",
    "for c, docs in class_docs.items():\n",
    "    for doc in docs:\n",
    "        word_counts[c].update(doc)\n",
    "\n",
    "word_counts"
   ]
  },
  {
   "cell_type": "code",
   "execution_count": null,
   "id": "652c98de",
   "metadata": {},
   "outputs": [
    {
     "name": "stdout",
     "output_type": "stream",
     "text": [
      "1\n",
      "0\n"
     ]
    },
    {
     "data": {
      "text/plain": [
       "({'positive': 0.5, 'negative': 0.5},\n",
       " 0.047619047619047616,\n",
       " 0.023809523809523808)"
      ]
     },
     "execution_count": 15,
     "metadata": {},
     "output_type": "execute_result"
    }
   ],
   "source": [
    "# Compute likelihoods with Laplace smoothing\n",
    "likelihoods = {}\n",
    "for c in class_docs:\n",
    "    total_count = sum(word_counts[c].values())\n",
    "    for w in vocab:\n",
    "        likelihoods[c][w] = (word_counts[c][w] + 1) / (total_count + vocab_size)\n",
    "        \n",
    "priors, likelihoods[\"positive\"][\"amazing\"], likelihoods[\"negative\"][\"amazing\"]"
   ]
  },
  {
   "cell_type": "code",
   "execution_count": 16,
   "id": "ec9c1ee3",
   "metadata": {},
   "outputs": [],
   "source": [
    "def predict(text):\n",
    "    tokens = tokenize(text)\n",
    "    class_scores = {}\n",
    "    for c in class_docs:\n",
    "        score = np.log(priors[c])\n",
    "        for w in tokens:\n",
    "            if w in vocab:\n",
    "                score += np.log(likelihoods[c][w])\n",
    "        class_scores[c] = score\n",
    "    return max(class_scores, key=class_scores.get), class_scores"
   ]
  },
  {
   "cell_type": "code",
   "execution_count": 17,
   "id": "ab34a981",
   "metadata": {},
   "outputs": [
    {
     "name": "stdout",
     "output_type": "stream",
     "text": [
      "Text: 'amazing movie and great story'\n",
      "Predicted: positive\n",
      "Scores: {'positive': np.float64(-12.465771823345472), 'negative': np.float64(-14.545213365025308)}\n"
     ]
    }
   ],
   "source": [
    "# Example prediction\n",
    "sample = \"amazing movie and great story\"\n",
    "pred, scores = predict(sample)\n",
    "print(f\"Text: '{sample}'\\nPredicted: {pred}\\nScores: {scores}\")"
   ]
  },
  {
   "cell_type": "code",
   "execution_count": 18,
   "id": "f11126c7",
   "metadata": {},
   "outputs": [
    {
     "data": {
      "text/plain": [
       "(                                 text     label predicted\n",
       " 0  I love this movie, it is fantastic  positive  positive\n",
       " 1  This film is amazing and wonderful  positive  positive\n",
       " 2    What a great and beautiful story  positive  positive\n",
       " 3   I hate this movie, it is terrible  negative  negative\n",
       " 4       This film is awful and boring  negative  negative\n",
       " 5  What a horrible and bad experience  negative  negative,\n",
       " np.float64(1.0))"
      ]
     },
     "execution_count": 18,
     "metadata": {},
     "output_type": "execute_result"
    }
   ],
   "source": [
    "df[\"predicted\"] = df[\"text\"].apply(lambda t: predict(t)[0])\n",
    "accuracy = np.mean(df[\"predicted\"] == df[\"label\"])\n",
    "df, accuracy"
   ]
  },
  {
   "cell_type": "code",
   "execution_count": 19,
   "id": "dbb1b267",
   "metadata": {},
   "outputs": [
    {
     "data": {
      "image/png": "[encoded data removed]",
      "text/plain": [
       "<Figure size 640x480 with 2 Axes>"
      ]
     },
     "metadata": {},
     "output_type": "display_data"
    }
   ],
   "source": [
    "from sklearn.metrics import confusion_matrix, ConfusionMatrixDisplay\n",
    "\n",
    "cm = confusion_matrix(df[\"label\"], df[\"predicted\"], labels=[\"positive\", \"negative\"])\n",
    "disp = ConfusionMatrixDisplay(confusion_matrix=cm, display_labels=[\"positive\", \"negative\"])\n",
    "disp.plot(cmap=\"Blues\")\n",
    "plt.title(\"Confusion Matrix\")\n",
    "plt.show()\n"
   ]
  },
  {
   "cell_type": "code",
   "execution_count": 20,
   "id": "f839663d",
   "metadata": {},
   "outputs": [
    {
     "data": {
      "image/png": "[encoded data removed]",
      "text/plain": [
       "<Figure size 1000x500 with 1 Axes>"
      ]
     },
     "metadata": {},
     "output_type": "display_data"
    }
   ],
   "source": [
    "# Sort words by difference in P(word|class)\n",
    "word_diff = {\n",
    "    w: np.log(likelihoods[\"positive\"][w]) - np.log(likelihoods[\"negative\"][w])\n",
    "    for w in vocab\n",
    "}\n",
    "sorted_words = sorted(word_diff.items(), key=lambda x: x[1])\n",
    "\n",
    "plt.figure(figsize=(10, 5))\n",
    "plt.barh([w for w, _ in sorted_words], [v for _, v in sorted_words], color=\"teal\")\n",
    "plt.title(\"Word Likelihood Difference (Positive vs Negative)\")\n",
    "plt.xlabel(\"log(P(word|positive)) - log(P(word|negative))\")\n",
    "plt.show()\n"
   ]
  },
  {
   "cell_type": "code",
   "execution_count": 79,
   "id": "22ee9206",
   "metadata": {},
   "outputs": [
    {
     "name": "stdout",
     "output_type": "stream",
     "text": [
      "Vocabulary size: 50212\n",
      "Reduced vocab size: 5000\n",
      "Classes: ['positive', 'negative']\n",
      "Example likelihood of 'good': {'positive': 0.002784849054347269, 'negative': 0.0027114691624181768}\n"
     ]
    }
   ],
   "source": [
    "from datasets import load_dataset\n",
    "import numpy as np\n",
    "import pandas as pd\n",
    "import matplotlib.pyplot as plt\n",
    "from collections import Counter, defaultdict\n",
    "import re\n",
    "\n",
    "dataset = load_dataset(\"imdb\")\n",
    "\n",
    "# Convert to pandas and sample for faster computation\n",
    "train_df = dataset[\"train\"].shuffle(seed=42).select(range(5000)).to_pandas()\n",
    "test_df = dataset[\"test\"].shuffle(seed=42).select(range(1000)).to_pandas()\n",
    "train_df.rename(columns={\"text\": \"review\", \"label\": \"sentiment\"}, inplace=True)\n",
    "test_df.rename(columns={\"text\": \"review\", \"label\": \"sentiment\"}, inplace=True)\n",
    "\n",
    "#  0 -> negative, 1 -> positive\n",
    "train_df[\"sentiment\"] = train_df[\"sentiment\"].map({0: \"negative\", 1: \"positive\"})\n",
    "test_df[\"sentiment\"] = test_df[\"sentiment\"].map({0: \"negative\", 1: \"positive\"})\n",
    "\n",
    "def clean_and_tokenize(text):\n",
    "    text = text.lower()\n",
    "    text = re.sub(r\"[^a-z\\s]\", \"\", text)\n",
    "    return text.split()\n",
    "\n",
    "train_df[\"tokens\"] = train_df[\"review\"].apply(clean_and_tokenize)\n",
    "test_df[\"tokens\"] = test_df[\"review\"].apply(clean_and_tokenize)\n",
    "\n",
    "# Build vocabulary from training data\n",
    "vocab = sorted(set(word for tokens in train_df[\"tokens\"] for word in tokens))\n",
    "vocab_size = len(vocab)\n",
    "print(\"Vocabulary size:\", vocab_size)\n",
    "# Limit to top frequent words\n",
    "word_freq = Counter(word for tokens in train_df[\"tokens\"] for word in tokens)\n",
    "vocab = [w for w, _ in word_freq.most_common(5000)]\n",
    "vocab_size = len(vocab)\n",
    "print(\"Reduced vocab size:\", vocab_size)\n",
    "\n",
    "class_docs = defaultdict(list)\n",
    "for tokens, label in zip(train_df[\"tokens\"], train_df[\"sentiment\"]):\n",
    "    class_docs[label].append(tokens)\n",
    "\n",
    "# Compute priors\n",
    "priors = {c: len(class_docs[c]) / len(train_df) for c in class_docs}\n",
    "\n",
    "# Count words per class\n",
    "word_counts = {c: Counter() for c in class_docs}\n",
    "for c, docs in class_docs.items():\n",
    "    for doc in docs:\n",
    "        word_counts[c].update([w for w in doc if w in vocab])\n",
    "\n",
    "# Compute likelihoods (Laplace smoothing)\n",
    "likelihoods = {}\n",
    "for c in class_docs:\n",
    "    total_count = sum(word_counts[c].values())\n",
    "    likelihoods[c] = {}\n",
    "    for w in vocab:\n",
    "        likelihoods[c][w] = (word_counts[c][w] + 1) / (total_count + vocab_size)\n",
    "\n",
    "print(\"Classes:\", list(priors.keys()))\n",
    "print(\"Example likelihood of 'good':\", {c: likelihoods[c].get(\"good\", 0) for c in likelihoods})\n"
   ]
  },
  {
   "cell_type": "code",
   "execution_count": 80,
   "id": "8bbbf3b8",
   "metadata": {},
   "outputs": [
    {
     "name": "stdout",
     "output_type": "stream",
     "text": [
      "'This movie was fantastic and emotional' → positive\n"
     ]
    }
   ],
   "source": [
    "def predict(tokens):\n",
    "    scores = {}\n",
    "    for c in class_docs:\n",
    "        log_prob = np.log(priors[c])\n",
    "        for w in tokens:\n",
    "            if w in vocab:\n",
    "                log_prob += np.log(likelihoods[c][w])\n",
    "        scores[c] = log_prob\n",
    "    return max(scores, key=scores.get)\n",
    "\n",
    "# Test example\n",
    "sample = \"This movie was fantastic and emotional\"\n",
    "pred = predict(clean_and_tokenize(sample))\n",
    "print(f\"'{sample}' → {pred}\")\n"
   ]
  },
  {
   "cell_type": "code",
   "execution_count": 81,
   "id": "8439ef1d",
   "metadata": {},
   "outputs": [
    {
     "name": "stdout",
     "output_type": "stream",
     "text": [
      "Accuracy: 0.803\n"
     ]
    }
   ],
   "source": [
    "test_df[\"predicted\"] = test_df[\"tokens\"].apply(predict)\n",
    "accuracy = np.mean(test_df[\"predicted\"] == test_df[\"sentiment\"])\n",
    "print(f\"Accuracy: {accuracy:.3f}\")\n"
   ]
  },
  {
   "cell_type": "code",
   "execution_count": 82,
   "id": "297c8c50",
   "metadata": {},
   "outputs": [
    {
     "data": {
      "image/png": "[encoded data removed]",
      "text/plain": [
       "<Figure size 640x480 with 2 Axes>"
      ]
     },
     "metadata": {},
     "output_type": "display_data"
    }
   ],
   "source": [
    "# confusion_matrix\n",
    "cm = confusion_matrix(test_df[\"sentiment\"], test_df[\"predicted\"], labels=[\"positive\", \"negative\"])\n",
    "disp = ConfusionMatrixDisplay(confusion_matrix=cm, display_labels=[\"positive\", \"negative\"])\n",
    "disp.plot(cmap=\"Blues\")\n",
    "plt.title(\"Confusion Matrix\")\n",
    "plt.show()\n"
   ]
  },
  {
   "cell_type": "code",
   "execution_count": 88,
   "id": "be55ab28",
   "metadata": {},
   "outputs": [],
   "source": [
    "import torch\n",
    "import torch.nn as nn\n",
    "import torch.optim as optim\n",
    "from torch.utils.data import DataLoader, Dataset\n",
    "from datasets import load_dataset\n",
    "from sklearn.metrics import confusion_matrix, ConfusionMatrixDisplay\n",
    "import matplotlib.pyplot as plt\n",
    "import numpy as np\n",
    "import re\n",
    "\n",
    "dataset = load_dataset(\"imdb\")\n",
    "\n",
    "train_data = dataset[\"train\"].shuffle(seed=42).select(range(5000))\n",
    "test_data = dataset[\"test\"].shuffle(seed=42).select(range(2000))\n",
    "\n",
    "def clean_text(text):\n",
    "    text = text.lower()\n",
    "    text = re.sub(r\"[^a-z\\s]\", \"\", text)\n",
    "    return text.split()\n",
    "\n",
    "# Tokenize\n",
    "train_tokens = [clean_text(x) for x in train_data[\"text\"]]\n",
    "test_tokens = [clean_text(x) for x in test_data[\"text\"]]\n",
    "\n",
    "# Build vocabulary (top 10k words)\n",
    "from collections import Counter\n",
    "word_freq = Counter(word for doc in train_tokens for word in doc)\n",
    "vocab = [w for w, _ in word_freq.most_common(10000)]\n",
    "word2idx = {w: i + 1 for i, w in enumerate(vocab)}  # 0 for padding\n",
    "vocab_size = len(vocab) + 1\n",
    "vocab_size\n",
    "class IMDBDataset(Dataset):\n",
    "    def __init__(self, tokens, labels, word2idx, max_len=200):\n",
    "        self.tokens = tokens\n",
    "        self.labels = labels\n",
    "        self.word2idx = word2idx\n",
    "        self.max_len = max_len\n",
    "\n",
    "    def __len__(self):\n",
    "        return len(self.tokens)\n",
    "\n",
    "    def __getitem__(self, idx):\n",
    "        token_ids = [self.word2idx.get(w, 0) for w in self.tokens[idx][: self.max_len]]\n",
    "        padding = [0] * (self.max_len - len(token_ids))\n",
    "        token_ids += padding\n",
    "        label = 1 if self.labels[idx] == 1 else 0\n",
    "        return torch.tensor(token_ids), torch.tensor(label)\n",
    "    \n",
    "train_dataset = IMDBDataset(train_tokens, train_data[\"label\"], word2idx)\n",
    "test_dataset = IMDBDataset(test_tokens, test_data[\"label\"], word2idx)\n",
    "train_loader = DataLoader(train_dataset, batch_size=32, shuffle=True)\n",
    "test_loader = DataLoader(test_dataset, batch_size=32)\n"
   ]
  },
  {
   "cell_type": "code",
   "execution_count": 72,
   "id": "b53abdd1",
   "metadata": {},
   "outputs": [
    {
     "name": "stdout",
     "output_type": "stream",
     "text": [
      "Epoch 1, Loss: 0.6870\n",
      "Epoch 2, Loss: 0.6694\n",
      "Epoch 3, Loss: 0.6350\n",
      "Epoch 4, Loss: 0.5861\n",
      "Epoch 5, Loss: 0.5294\n",
      "Epoch 6, Loss: 0.4749\n",
      "Epoch 7, Loss: 0.4271\n",
      "Epoch 8, Loss: 0.3848\n"
     ]
    }
   ],
   "source": [
    "class SimpleNN(nn.Module):\n",
    "    def __init__(self, vocab_size, embed_dim=50):\n",
    "        super(SimpleNN, self).__init__()\n",
    "        self.embedding = nn.Embedding(vocab_size, embed_dim, padding_idx=0)\n",
    "        self.fc1 = nn.Linear(embed_dim, 1)\n",
    "        self.sigmoid = nn.Sigmoid()\n",
    "\n",
    "    def forward(self, x):\n",
    "        embeds = self.embedding(x)\n",
    "        avg_embeds = embeds.mean(dim=1)\n",
    "        out = self.fc1(avg_embeds)\n",
    "        return self.sigmoid(out).squeeze()\n",
    "    \n",
    "model = SimpleNN(vocab_size)\n",
    "criterion = nn.BCELoss()\n",
    "optimizer = optim.Adam(model.parameters(), lr=0.001)\n",
    "# Training loop\n",
    "for epoch in range(8):\n",
    "    model.train()\n",
    "    total_loss = 0\n",
    "    for inputs, labels in train_loader:\n",
    "        optimizer.zero_grad()\n",
    "        outputs = model(inputs)\n",
    "        loss = criterion(outputs, labels.float())\n",
    "        loss.backward()\n",
    "        optimizer.step()\n",
    "        total_loss += loss.item()\n",
    "    print(f\"Epoch {epoch+1}, Loss: {total_loss/len(train_loader):.4f}\")"
   ]
  },
  {
   "cell_type": "code",
   "execution_count": 73,
   "id": "05459158",
   "metadata": {},
   "outputs": [
    {
     "name": "stdout",
     "output_type": "stream",
     "text": [
      "Test Accuracy: 0.815\n"
     ]
    }
   ],
   "source": [
    "# Evaluation\n",
    "model.eval()\n",
    "all_preds = []\n",
    "all_labels = []\n",
    "with torch.no_grad():\n",
    "    for inputs, labels in test_loader:\n",
    "        outputs = model(inputs)\n",
    "        preds = (outputs >= 0.5).long()\n",
    "        all_preds.extend(preds.tolist())\n",
    "        all_labels.extend(labels.tolist())\n",
    "accuracy = np.mean(np.array(all_preds) == np.array(all_labels))\n",
    "print(f\"Test Accuracy: {accuracy:.3f}\")\n"
   ]
  },
  {
   "cell_type": "code",
   "execution_count": 42,
   "id": "9384799e",
   "metadata": {},
   "outputs": [
    {
     "data": {
      "image/png": "[encoded data removed]",
      "text/plain": [
       "<Figure size 640x480 with 2 Axes>"
      ]
     },
     "metadata": {},
     "output_type": "display_data"
    }
   ],
   "source": [
    "# confusion_matrix\n",
    "cm = confusion_matrix(all_labels, all_preds, labels=[1, 0])\n",
    "disp = ConfusionMatrixDisplay(confusion_matrix=cm, display_labels=[\"positive\", \"negative\"])\n",
    "disp.plot(cmap=\"Blues\")\n",
    "plt.title(\"Confusion Matrix\")\n",
    "plt.show()\n"
   ]
  },
  {
   "cell_type": "code",
   "execution_count": 117,
   "id": "3aaa010f",
   "metadata": {},
   "outputs": [],
   "source": [
    "import torch\n",
    "import torch.nn as nn\n",
    "import torch.optim as optim\n",
    "from torch.utils.data import DataLoader, Dataset\n",
    "from datasets import load_dataset\n",
    "from sklearn.metrics import confusion_matrix, ConfusionMatrixDisplay\n",
    "import matplotlib.pyplot as plt\n",
    "import numpy as np\n",
    "import re\n",
    "from collections import Counter"
   ]
  },
  {
   "cell_type": "code",
   "execution_count": 126,
   "id": "8859a0f1",
   "metadata": {},
   "outputs": [],
   "source": [
    "dataset = load_dataset(\"imdb\")\n",
    "\n",
    "train_data = dataset[\"train\"].shuffle(seed=42).select(range(10000))\n",
    "test_data = dataset[\"test\"].shuffle(seed=42).select(range(2000))"
   ]
  },
  {
   "cell_type": "code",
   "execution_count": 128,
   "id": "65e0b038",
   "metadata": {},
   "outputs": [
    {
     "name": "stdout",
     "output_type": "stream",
     "text": [
      "Vocabulary size: 10001\n"
     ]
    }
   ],
   "source": [
    "def clean_text(text):\n",
    "    text = text.lower()\n",
    "    text = re.sub(r\"[^a-z\\s]\", \"\", text)\n",
    "    return text.split()\n",
    "\n",
    "train_tokens = [clean_text(x) for x in train_data[\"text\"]]\n",
    "test_tokens = [clean_text(x) for x in test_data[\"text\"]]\n",
    "\n",
    "# Build vocab (top 10k words)\n",
    "word_freq = Counter(word for doc in train_tokens for word in doc)\n",
    "vocab = [w for w, _ in word_freq.most_common(10000)]\n",
    "word2idx = {w: i + 1 for i, w in enumerate(vocab)}  # +1 because 0 is for padding\n",
    "vocab_size = len(word2idx) + 1\n",
    "print(\"Vocabulary size:\", vocab_size)\n"
   ]
  },
  {
   "cell_type": "code",
   "execution_count": 129,
   "id": "e4e3ad02",
   "metadata": {},
   "outputs": [
    {
     "data": {
      "text/plain": [
       "torch.Size([10001, 100])"
      ]
     },
     "execution_count": 129,
     "metadata": {},
     "output_type": "execute_result"
    }
   ],
   "source": [
    "embedding_dim = 100\n",
    "glove_path = \"data/glove.6B.100d.txt\"\n",
    "embeddings_index = {}\n",
    "with open(glove_path, encoding=\"utf8\") as f:\n",
    "    for line in f:\n",
    "        values = line.split()\n",
    "        word = values[0]\n",
    "        vector = np.asarray(values[1:], dtype=\"float32\")\n",
    "        embeddings_index[word] = vector\n",
    "\n",
    "embedding_matrix = np.zeros((vocab_size, embedding_dim))\n",
    "for word, i in word2idx.items():\n",
    "    if word in embeddings_index:\n",
    "        try:\n",
    "            embedding_matrix[i] = embeddings_index[word]\n",
    "        except Exception as e:\n",
    "            print(f\"Error loading embedding for {word}: {e}\")   \n",
    "    else:\n",
    "        embedding_matrix[i] = np.random.normal(scale=0.6, size=(embedding_dim,))\n",
    "\n",
    "embedding_matrix = torch.tensor(embedding_matrix, dtype=torch.float32)\n",
    "embedding_matrix.shape\n"
   ]
  },
  {
   "cell_type": "code",
   "execution_count": 130,
   "id": "77c2bc15",
   "metadata": {},
   "outputs": [],
   "source": [
    "def encode(tokens, max_len=200):\n",
    "    indices = [word2idx.get(w, 0) for w in tokens][:max_len]\n",
    "    return indices + [0] * (max_len - len(indices))\n",
    "\n",
    "X_train = torch.tensor([encode(t) for t in train_tokens])\n",
    "y_train = torch.tensor(train_data[\"label\"])\n",
    "X_test = torch.tensor([encode(t) for t in test_tokens])\n",
    "y_test = torch.tensor(test_data[\"label\"])\n",
    "\n",
    "class IMDBDataset(Dataset):\n",
    "    def __init__(self, X, y):\n",
    "        self.X = X\n",
    "        self.y = y\n",
    "    def __len__(self):\n",
    "        return len(self.X)\n",
    "    def __getitem__(self, idx):\n",
    "        return self.X[idx], self.y[idx]\n",
    "\n",
    "train_loader = DataLoader(IMDBDataset(X_train, y_train), batch_size=64, shuffle=True)\n",
    "test_loader = DataLoader(IMDBDataset(X_test, y_test), batch_size=64)\n"
   ]
  },
  {
   "cell_type": "code",
   "execution_count": 144,
   "id": "d1859225",
   "metadata": {},
   "outputs": [],
   "source": [
    "class SentimentNN_GloVe(nn.Module):\n",
    "    def __init__(self, embedding_matrix):\n",
    "        super().__init__()\n",
    "        vocab_size, embed_dim = embedding_matrix.shape\n",
    "        self.embedding = nn.Embedding(vocab_size, embed_dim)\n",
    "        self.embedding.weight = nn.Parameter(embedding_matrix)\n",
    "        self.embedding.weight.requires_grad = True  # freeze embeddings\n",
    "\n",
    "        self.fc1 = nn.Linear(embed_dim, 32)\n",
    "        self.relu = nn.ReLU()\n",
    "        self.fc2 = nn.Linear(32, 1)\n",
    "        self.sigmoid = nn.Sigmoid()\n",
    "\n",
    "    def forward(self, x):\n",
    "        embedded = self.embedding(x)\n",
    "        pooled = embedded.mean(dim=1)\n",
    "        x = self.relu(self.fc1(pooled))\n",
    "        x = self.fc2(x)\n",
    "        return self.sigmoid(x)\n",
    "model = SentimentNN_GloVe(embedding_matrix)\n",
    "\n",
    "device = torch.device(\"cuda\" if torch.cuda.is_available() else \"cpu\")\n",
    "model = SentimentNN_GloVe(embedding_matrix).to(device)\n",
    "\n",
    "criterion = nn.BCELoss()\n",
    "optimizer = optim.Adam(model.parameters(), lr=0.001)\n",
    "\n",
    "train_losses, test_accuracies = [], []\n"
   ]
  },
  {
   "cell_type": "code",
   "execution_count": 145,
   "id": "b16f8247",
   "metadata": {},
   "outputs": [
    {
     "name": "stdout",
     "output_type": "stream",
     "text": [
      "Epoch 1 | Loss: 0.5672 | Test Acc: 0.824\n",
      "Epoch 2 | Loss: 0.2419 | Test Acc: 0.847\n",
      "Epoch 3 | Loss: 0.1289 | Test Acc: 0.847\n",
      "Epoch 4 | Loss: 0.0860 | Test Acc: 0.846\n",
      "Epoch 5 | Loss: 0.0646 | Test Acc: 0.843\n"
     ]
    }
   ],
   "source": [
    "for epoch in range(5):\n",
    "    model.train()\n",
    "    total_loss = 0\n",
    "    for X_batch, y_batch in train_loader:\n",
    "        X_batch, y_batch = X_batch.to(device), y_batch.to(device).float().unsqueeze(1)\n",
    "        optimizer.zero_grad()\n",
    "        preds = model(X_batch)\n",
    "        loss = criterion(preds, y_batch)\n",
    "        loss.backward()\n",
    "        optimizer.step()\n",
    "        total_loss += loss.item()\n",
    "    train_losses.append(total_loss / len(train_loader))\n",
    "\n",
    "    # Evaluate\n",
    "    model.eval()\n",
    "    correct, total = 0, 0\n",
    "    with torch.no_grad():\n",
    "        for X_batch, y_batch in test_loader:\n",
    "            X_batch, y_batch = X_batch.to(device), y_batch.to(device)\n",
    "            preds = (model(X_batch) > 0.5).squeeze().cpu()\n",
    "            correct += (preds == y_batch).sum().item()\n",
    "            total += len(y_batch)\n",
    "    acc = correct / total\n",
    "    test_accuracies.append(acc)\n",
    "    print(f\"Epoch {epoch+1} | Loss: {train_losses[-1]:.4f} | Test Acc: {acc:.3f}\")\n",
    "    "
   ]
  },
  {
   "cell_type": "code",
   "execution_count": null,
   "id": "d00f490f",
   "metadata": {},
   "outputs": [],
   "source": []
  }
 ],
 "metadata": {
  "kernelspec": {
   "display_name": "venv",
   "language": "python",
   "name": "python3"
  },
  "language_info": {
   "codemirror_mode": {
    "name": "ipython",
    "version": 3
   },
   "file_extension": ".py",
   "mimetype": "text/x-python",
   "name": "python",
   "nbconvert_exporter": "python",
   "pygments_lexer": "ipython3",
   "version": "3.10.0"
  }
 },
 "nbformat": 4,
 "nbformat_minor": 5
}
